{
 "cells": [
  {
   "cell_type": "code",
   "execution_count": 6,
   "metadata": {},
   "outputs": [
    {
     "name": "stdout",
     "output_type": "stream",
     "text": [
      "-------------------------------------------------------------\n",
      "Weather Stats for - FLORENCE  || 07 Dec 2023 | 05:03:43 PM\n",
      "-------------------------------------------------------------\n",
      "Current temperature is: 6.56 deg C\n",
      "Minimun temperature is: 4.00 deg C\n",
      "Maximum temperature is: 9.00 deg C\n",
      "Current weather desc  : clear sky\n",
      "Current Humidity      : 85 %\n",
      "Current wind speed    : 1.54 kmph\n"
     ]
    }
   ],
   "source": [
    "import requests\n",
    "import os\n",
    "from datetime import datetime\n",
    "\n",
    "api_key = \"90722f738441d031d892a0ca8d4dfaa8\"\n",
    "\n",
    "while True:\n",
    "    location = input(\"Location: \")\n",
    "\n",
    "    result = requests.get(f'http://api.openweathermap.org/data/2.5/weather?q={location}&units=metric&appid={api_key}')\n",
    "    if result.json()['cod'] == '404':\n",
    "        print(\"Invalid location!\")\n",
    "        continue\n",
    "    break\n",
    "\n",
    "#create variables to store and display data\n",
    "temp_city = ((result.json()['main']['temp']))\n",
    "weather_desc = result.json()['weather'][0]['description']\n",
    "hmdt = result.json()['main']['humidity']\n",
    "wind_spd = result.json()['wind']['speed']\n",
    "date_time = datetime.now().strftime(\"%d %b %Y | %I:%M:%S %p\")\n",
    "high = round(result.json()['main']['temp_max'])\n",
    "low = round(result.json()['main']['temp_min'])\n",
    "\n",
    "print (\"-------------------------------------------------------------\")\n",
    "print (\"Weather Stats for - {}  || {}\".format(location.upper(), date_time))\n",
    "print (\"-------------------------------------------------------------\")\n",
    "print (\"Current temperature is: {:.2f} deg C\".format(temp_city))\n",
    "print (\"Minimun temperature is: {:.2f} deg C\".format(low))\n",
    "print (\"Maximum temperature is: {:.2f} deg C\".format(high))\n",
    "print (\"Current weather desc  :\",weather_desc)\n",
    "print (\"Current Humidity      :\",hmdt, '%')\n",
    "print (\"Current wind speed    :\",wind_spd ,'kmph')\n"
   ]
  }
 ],
 "metadata": {
  "kernelspec": {
   "display_name": "Python 3",
   "language": "python",
   "name": "python3"
  },
  "language_info": {
   "codemirror_mode": {
    "name": "ipython",
    "version": 3
   },
   "file_extension": ".py",
   "mimetype": "text/x-python",
   "name": "python",
   "nbconvert_exporter": "python",
   "pygments_lexer": "ipython3",
   "version": "3.10.5"
  }
 },
 "nbformat": 4,
 "nbformat_minor": 2
}
